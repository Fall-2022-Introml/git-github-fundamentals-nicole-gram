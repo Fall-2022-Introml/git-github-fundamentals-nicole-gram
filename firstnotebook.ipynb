{
 "cells": [
  {
   "cell_type": "code",
   "execution_count": null,
   "id": "daccfe5d",
   "metadata": {},
   "outputs": [],
   "source": [
    "This is my first notebook"
   ]
  },
  {
   "cell_type": "code",
   "execution_count": null,
   "id": "9e19a41f",
   "metadata": {},
   "outputs": [],
   "source": [
    "variable = 5+5"
   ]
  },
  {
   "cell_type": "code",
   "execution_count": null,
   "id": "1864f958",
   "metadata": {},
   "outputs": [],
   "source": [
    "print(variable)"
   ]
  }
 ],
 "metadata": {
  "kernelspec": {
   "display_name": "Python 3 (ipykernel)",
   "language": "python",
   "name": "python3"
  },
  "language_info": {
   "codemirror_mode": {
    "name": "ipython",
    "version": 3
   },
   "file_extension": ".py",
   "mimetype": "text/x-python",
   "name": "python",
   "nbconvert_exporter": "python",
   "pygments_lexer": "ipython3",
   "version": "3.9.12"
  }
 },
 "nbformat": 4,
 "nbformat_minor": 5
}
